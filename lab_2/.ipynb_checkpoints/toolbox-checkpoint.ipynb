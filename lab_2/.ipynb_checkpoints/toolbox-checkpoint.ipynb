{
 "cells": [
  {
   "cell_type": "code",
   "execution_count": null,
   "metadata": {},
   "outputs": [],
   "source": [
    "import spacy\n",
    "import pandas as pd"
   ]
  },
  {
   "cell_type": "markdown",
   "metadata": {},
   "source": [
    "Standard constants"
   ]
  },
  {
   "cell_type": "code",
   "execution_count": null,
   "metadata": {},
   "outputs": [],
   "source": [
    "# - language\n",
    "SCIPY_LANGUAGES = {\n",
    "    'German': 'de',\n",
    "    'Greek': 'el',\n",
    "    'English': 'en',\n",
    "    'Spanish': 'es',\n",
    "    'French': 'fr',\n",
    "    'Italian': 'it',\n",
    "    'Dutch': 'nl',\n",
    "    'Portuguese': 'pt'}\n",
    "LANGUAGE = 'English'\n",
    "assert LANGUAGE in SCIPY_LANGUAGES.keys()\n",
    "\n",
    "# data save directory\n",
    "SAVE_PATH = 'data'\n",
    "if not os.path.isdir(SAVE_PATH):\n",
    "    os.mkdir(SAVE_PATH)"
   ]
  },
  {
   "cell_type": "markdown",
   "metadata": {},
   "source": [
    "# Preprocessing and visualization\n",
    "## NLP parse\n",
    "With Spacy\n",
    "### Parsing"
   ]
  },
  {
   "cell_type": "code",
   "execution_count": null,
   "metadata": {},
   "outputs": [],
   "source": [
    "# scipy parser singleton\n",
    "PARSERS = dict()\n",
    "def get_parser(language=LANGUAGE):\n",
    "    # load the sentence parser for the target language\n",
    "    if language not in PARSERS.keys():\n",
    "        PARSERS[language] = spacy.load(SCIPY_LANGUAGES[language])\n",
    "    return PARSERS[language]"
   ]
  },
  {
   "cell_type": "code",
   "execution_count": null,
   "metadata": {},
   "outputs": [],
   "source": [
    "def parse(string, language=LANGUAGE):\n",
    "    return get_parser(language)(string)"
   ]
  },
  {
   "cell_type": "markdown",
   "metadata": {},
   "source": [
    "### Tokenizing"
   ]
  },
  {
   "cell_type": "markdown",
   "metadata": {},
   "source": [
    "### Sentence Segmentation"
   ]
  },
  {
   "cell_type": "markdown",
   "metadata": {},
   "source": [
    "### POS tagging"
   ]
  },
  {
   "cell_type": "markdown",
   "metadata": {},
   "source": [
    "### Stemming"
   ]
  },
  {
   "cell_type": "markdown",
   "metadata": {},
   "source": [
    "### Lemmatizing"
   ]
  },
  {
   "cell_type": "markdown",
   "metadata": {},
   "source": [
    "## visualization\n",
    "Descriptive statistics\n",
    "Visualisation tools\n",
    "## Feature engineering\n",
    "Features and data representation\n",
    "Pre-processing\n",
    "Bag-of-Words\n",
    "Distributional and distributed representations\n",
    "\n",
    "## Dataset preparation\n",
    "### slicing\n",
    "### shuffleing\n",
    "###"
   ]
  },
  {
   "cell_type": "markdown",
   "metadata": {},
   "source": [
    "# data loading"
   ]
  }
 ],
 "metadata": {
  "kernelspec": {
   "display_name": "Python 3",
   "language": "python",
   "name": "python3"
  },
  "language_info": {
   "codemirror_mode": {
    "name": "ipython",
    "version": 3
   },
   "file_extension": ".py",
   "mimetype": "text/x-python",
   "name": "python",
   "nbconvert_exporter": "python",
   "pygments_lexer": "ipython3",
   "version": "3.7.1"
  }
 },
 "nbformat": 4,
 "nbformat_minor": 2
}
