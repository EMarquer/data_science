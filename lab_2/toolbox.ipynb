{
 "cells": [
  {
   "cell_type": "code",
   "execution_count": null,
   "metadata": {},
   "outputs": [],
   "source": [
    "import spacy\n",
    "import pandas as pd\n",
    "import numpy as np\n",
    "np.random.seed(1234)\n",
    "import matplotlib.pyplot as plt\n",
    "plt.style.use('classic') # >=v1.5\n",
    "# https://mastertal.gitlab.io/UE803/l8-visu.html#/0/17\n",
    "import seaborn as sns\n",
    "# https://mastertal.gitlab.io/UE803/l8-visu.html#/0/34"
   ]
  },
  {
   "cell_type": "markdown",
   "metadata": {},
   "source": [
    "Standard constants"
   ]
  },
  {
   "cell_type": "code",
   "execution_count": null,
   "metadata": {},
   "outputs": [],
   "source": [
    "# - language\n",
    "SCIPY_LANGUAGES = {\n",
    "    'German': 'de',\n",
    "    'Greek': 'el',\n",
    "    'English': 'en',\n",
    "    'Spanish': 'es',\n",
    "    'French': 'fr',\n",
    "    'Italian': 'it',\n",
    "    'Dutch': 'nl',\n",
    "    'Portuguese': 'pt'}\n",
    "LANGUAGE = 'English'\n",
    "assert LANGUAGE in SCIPY_LANGUAGES.keys()\n",
    "\n",
    "# data save directory\n",
    "SAVE_PATH = 'data'\n",
    "if not os.path.isdir(SAVE_PATH):\n",
    "    os.mkdir(SAVE_PATH)"
   ]
  },
  {
   "cell_type": "markdown",
   "metadata": {},
   "source": [
    "# Preprocessing and visualization\n",
    "## NLP parse\n",
    "With Spacy\n",
    "### Parsing"
   ]
  },
  {
   "cell_type": "code",
   "execution_count": null,
   "metadata": {},
   "outputs": [],
   "source": [
    "# scipy parser singleton\n",
    "PARSERS = dict()\n",
    "def get_parser(language=LANGUAGE):\n",
    "    # load the sentence parser for the target language\n",
    "    if language not in PARSERS.keys():\n",
    "        PARSERS[language] = spacy.load(SCIPY_LANGUAGES[language])\n",
    "    return PARSERS[language]"
   ]
  },
  {
   "cell_type": "code",
   "execution_count": null,
   "metadata": {},
   "outputs": [],
   "source": [
    "def parse(text, language=LANGUAGE):\n",
    "    return get_parser(language)(text)"
   ]
  },
  {
   "cell_type": "markdown",
   "metadata": {},
   "source": [
    "### Tokenizing"
   ]
  },
  {
   "cell_type": "code",
   "execution_count": null,
   "metadata": {},
   "outputs": [],
   "source": [
    "[token for token in parse(text)]"
   ]
  },
  {
   "cell_type": "markdown",
   "metadata": {},
   "source": [
    "### Sentence Segmentation"
   ]
  },
  {
   "cell_type": "code",
   "execution_count": null,
   "metadata": {},
   "outputs": [],
   "source": [
    "[sent.text for sent in parse(text).sents]"
   ]
  },
  {
   "cell_type": "markdown",
   "metadata": {},
   "source": [
    "### POS tagging"
   ]
  },
  {
   "cell_type": "code",
   "execution_count": null,
   "metadata": {},
   "outputs": [],
   "source": [
    "[(token, token.tag_, token.pos_) for token in parse(text)]"
   ]
  },
  {
   "cell_type": "markdown",
   "metadata": {},
   "source": [
    "### Stemming/Lemmatizing"
   ]
  },
  {
   "cell_type": "code",
   "execution_count": null,
   "metadata": {},
   "outputs": [],
   "source": [
    "[token.lemma_ for token in parse(text)]"
   ]
  },
  {
   "cell_type": "markdown",
   "metadata": {},
   "source": [
    "### Dependency parsing\n",
    "https://spacy.io/usage/linguistic-features#dependency-parse"
   ]
  },
  {
   "cell_type": "markdown",
   "metadata": {},
   "source": [
    "## Visualization\n",
    "### Descriptive statistics\n",
    "#### Scipy"
   ]
  },
  {
   "cell_type": "code",
   "execution_count": null,
   "metadata": {},
   "outputs": [],
   "source": [
    "from scipy import stats"
   ]
  },
  {
   "cell_type": "markdown",
   "metadata": {},
   "source": [
    "##### Univariate analysis:\n",
    "Central tendency: mean, median, mode  \n",
    "Dispersion: range, quartiles, variance, standard deviation  \n",
    "Shape of the distribution: skewness, kurtosis"
   ]
  },
  {
   "cell_type": "code",
   "execution_count": null,
   "metadata": {},
   "outputs": [],
   "source": [
    "stats.describe(data)\n",
    "# DescribeResult(nobs=1308, minmax=(0.0, 512.3292), mean=33.29547928134557, variance=2678.959737892891, skewness=4.362698696939623, kurtosis=26.9201952318479)"
   ]
  },
  {
   "cell_type": "code",
   "execution_count": null,
   "metadata": {},
   "outputs": [],
   "source": [
    "stats.mode(data)\n",
    "# ModeResult(mode=array([8.05]), count=array([60.]))"
   ]
  },
  {
   "cell_type": "code",
   "execution_count": null,
   "metadata": {},
   "outputs": [],
   "source": [
    "np.median(data)\n",
    "np.median(data)\n",
    "# or\n",
    "1st_quartile, median, 3rd_quartile = np.quantiles(data, [.25, .5, .75])"
   ]
  },
  {
   "cell_type": "markdown",
   "metadata": {},
   "source": [
    "Histograms"
   ]
  },
  {
   "cell_type": "markdown",
   "metadata": {},
   "source": [
    "##### Bivariate analysis:\n",
    "Contingency tables"
   ]
  },
  {
   "cell_type": "markdown",
   "metadata": {},
   "source": [
    "Scatterplots"
   ]
  },
  {
   "cell_type": "markdown",
   "metadata": {},
   "source": [
    "Correlation (e.g. Pearson’s)"
   ]
  },
  {
   "cell_type": "markdown",
   "metadata": {},
   "source": [
    "Covariance"
   ]
  },
  {
   "cell_type": "markdown",
   "metadata": {},
   "source": [
    "#### Pandas\n",
    "##### Univariate analysis:\n",
    "Central tendency: mean, median, mode  \n",
    "Dispersion: range, quartiles, variance, standard deviation  \n",
    "Shape of the distribution: skewness, kurtosis  "
   ]
  },
  {
   "cell_type": "code",
   "execution_count": null,
   "metadata": {},
   "outputs": [],
   "source": [
    "titanic_df['age'].describe()\n",
    "titanic_df.groupby('pclass').mean()"
   ]
  },
  {
   "cell_type": "markdown",
   "metadata": {},
   "source": [
    "##### Bivariate analysis:\n",
    "Contingency tables  \n",
    "Scatterplots  \n",
    "Correlation (e.g. Pearson’s)  \n",
    "Covariance  "
   ]
  },
  {
   "cell_type": "markdown",
   "metadata": {},
   "source": [
    "### Visualisation tools\n",
    "see: https://nbviewer.jupyter.org/url/mastertal.gitlab.io/UE803/notebooks/Exercise_sheet_8_visu_with_solutions.ipynb\n",
    "#### Hist"
   ]
  },
  {
   "cell_type": "code",
   "execution_count": 1,
   "metadata": {},
   "outputs": [
    {
     "ename": "NameError",
     "evalue": "name 'plt' is not defined",
     "output_type": "error",
     "traceback": [
      "\u001b[1;31m---------------------------------------------------------------------------\u001b[0m",
      "\u001b[1;31mNameError\u001b[0m                                 Traceback (most recent call last)",
      "\u001b[1;32m<ipython-input-1-b0bc7b2498da>\u001b[0m in \u001b[0;36m<module>\u001b[1;34m\u001b[0m\n\u001b[1;32m----> 1\u001b[1;33m \u001b[0mplt\u001b[0m\u001b[1;33m.\u001b[0m\u001b[0mhist\u001b[0m\u001b[1;33m(\u001b[0m\u001b[0mdata\u001b[0m\u001b[1;33m)\u001b[0m \u001b[1;31m# data 1D\u001b[0m\u001b[1;33m\u001b[0m\u001b[1;33m\u001b[0m\u001b[0m\n\u001b[0m",
      "\u001b[1;31mNameError\u001b[0m: name 'plt' is not defined"
     ]
    }
   ],
   "source": [
    "plt.hist(data) # data 1D\n",
    "# OR, in comparative\n",
    "plt.hist([data_1, data_2], bins, label=['x', 'y'])\n",
    "plt.legend()\n",
    "plt.show()"
   ]
  },
  {
   "cell_type": "markdown",
   "metadata": {},
   "source": [
    "#### PairPlot"
   ]
  },
  {
   "cell_type": "code",
   "execution_count": null,
   "metadata": {},
   "outputs": [],
   "source": [
    "# higher-level functions create a figure when called \n",
    "fig = sns.pairplot(iris, hue='species', size=2.5)\n",
    "# OR\n",
    "sns.pairplot(titanic[[\"age\", \"fare\", \"sex\", \"pclass\",\"survived\"]], hue=\"survived\" )"
   ]
  },
  {
   "cell_type": "markdown",
   "metadata": {},
   "source": [
    "### Heat map"
   ]
  },
  {
   "cell_type": "code",
   "execution_count": null,
   "metadata": {},
   "outputs": [],
   "source": [
    "from sklearn.metrics import confusion_matrix\n",
    "cfn_matrix = confusion_matrix(y_true, y_pred)\n",
    "df_cm = pd.DataFrame(cfn_matrix, index = [i for i in \"012\"], columns = [i for i in \"012\"])\n",
    "sns.heatmap(df_cm, annot=True, fmt='d')\n",
    "# collors: https://mastertal.gitlab.io/UE803/l8-visu.html#/0/43"
   ]
  },
  {
   "cell_type": "markdown",
   "metadata": {},
   "source": [
    "## Feature engineering\n",
    "Features and data representation  \n",
    "Pre-processing  \n",
    "Bag-of-Words  \n",
    "Distributional and distributed representations\n",
    "\n",
    "https://mastertal.gitlab.io/UE803/l10-features.html#/0/19\n",
    "\n",
    "## Dataset preparation"
   ]
  },
  {
   "cell_type": "code",
   "execution_count": null,
   "metadata": {},
   "outputs": [],
   "source": []
  },
  {
   "cell_type": "markdown",
   "metadata": {},
   "source": [
    "### slicing"
   ]
  },
  {
   "cell_type": "markdown",
   "metadata": {},
   "source": [
    "### shuffleing"
   ]
  },
  {
   "cell_type": "markdown",
   "metadata": {},
   "source": [
    "###"
   ]
  },
  {
   "cell_type": "markdown",
   "metadata": {},
   "source": [
    "# data loading"
   ]
  },
  {
   "cell_type": "code",
   "execution_count": null,
   "metadata": {},
   "outputs": [],
   "source": [
    "DATA_PATH = '../lab_1/data/'\n",
    "DATABASE_PATH = \n",
    "DATABASE_PATH = \n",
    "MODE_DATABASE ="
   ]
  },
  {
   "cell_type": "markdown",
   "metadata": {},
   "source": [
    "## load author/book uri/sentences\n",
    "as dict  \n",
    "as dataframe"
   ]
  },
  {
   "cell_type": "code",
   "execution_count": null,
   "metadata": {},
   "outputs": [],
   "source": []
  },
  {
   "cell_type": "markdown",
   "metadata": {},
   "source": [
    "## load sentences\n",
    "as dataframe  \n",
    "as tokens"
   ]
  },
  {
   "cell_type": "code",
   "execution_count": null,
   "metadata": {},
   "outputs": [],
   "source": []
  }
 ],
 "metadata": {
  "kernelspec": {
   "display_name": "Python 3",
   "language": "python",
   "name": "python3"
  },
  "language_info": {
   "codemirror_mode": {
    "name": "ipython",
    "version": 3
   },
   "file_extension": ".py",
   "mimetype": "text/x-python",
   "name": "python",
   "nbconvert_exporter": "python",
   "pygments_lexer": "ipython3",
   "version": "3.7.1"
  }
 },
 "nbformat": 4,
 "nbformat_minor": 2
}
