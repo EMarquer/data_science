{
 "cells": [
  {
   "cell_type": "code",
   "execution_count": 3,
   "metadata": {},
   "outputs": [],
   "source": [
    "# setup SQL database\n",
    "from sqlalchemy import Column, ForeignKey, Integer, String\n",
    "from sqlalchemy.ext.declarative import declarative_base\n",
    "from sqlalchemy.orm import relationship\n",
    "from sqlalchemy import create_engine\n",
    "\n",
    "Base = declarative_base() \n",
    "\n",
    "class Author(Base):\n",
    "    __tablename__ = 'author'\n",
    "    id   = Column(Integer, primary_key=True)\n",
    "    name = Column(String(250), nullable=False)\n",
    "    uri  = Column(String(250))\n",
    "    books             = relationship(\"Book\", back_populates=\"author\")\n",
    "    abstracts         = relationship(\"Abstract\", back_populates=\"author\")\n",
    "    movement_mappings = relationship(\"AuthorMovementMapping\", back_populates=\"author\")\n",
    "\n",
    "class Book(Base):\n",
    "    __tablename__ = 'book'\n",
    "    uri             = Column(String(250), primary_key=True)\n",
    "    author_id       = Column(Integer, ForeignKey('author.id'))\n",
    "    title           = Column(String(250))\n",
    "    file_path       = Column(String(250))\n",
    "    sentence_number = Column(Integer)\n",
    "    author = relationship(\"Author\", back_populates=\"books\")\n",
    "\n",
    "class Abstract(Base):\n",
    "    __tablename__ = 'abstract'\n",
    "    author_id = Column(Integer, ForeignKey('author.id'), primary_key=True)\n",
    "    lang      = Column(String(4), primary_key=True)\n",
    "    abstract  = Column(String(250))\n",
    "    author = relationship(\"Author\", back_populates=\"abstracts\")\n",
    "\n",
    "class Movement(Base):\n",
    "    __tablename__ = 'movement'\n",
    "    id    = Column(Integer, primary_key=True)\n",
    "    uri   = Column(String(250), nullable=False)\n",
    "    label = Column(String(250), nullable=False)\n",
    "    author_mappings = relationship(\"AuthorMovementMapping\", back_populates=\"movement\")\n",
    "\n",
    "class AuthorMovementMapping(Base):\n",
    "    __tablename__ = 'author_movement_mapping'\n",
    "    author_id   = Column(Integer, ForeignKey('author.id'), primary_key=True)\n",
    "    movement_id = Column(Integer, ForeignKey('movement.id'), primary_key=True)    \n",
    "    author   = relationship(\"Author\", back_populates=\"author_mappings\")\n",
    "    movement = relationship(\"Movement\", back_populates=\"movement_mappings\")\n",
    "\n",
    "# Create an engine that stores data in the local \n",
    "# directory's example.db file.\n",
    "engine = create_engine('sqlite:///example.db')\n",
    "\n",
    "# Create all tables in the engine. This is equivalent \n",
    "# to \"Create Table\" statements in raw SQL.\n",
    "Base.metadata.create_all(engine)"
   ]
  },
  {
   "cell_type": "code",
   "execution_count": 4,
   "metadata": {},
   "outputs": [],
   "source": [
    "import pandas as pd\n",
    "\n",
    "def count_sentences(book_file):\n",
    "    with open(book_file) as f:\n",
    "        return len(f.read().strip().split('\\n'))\n",
    "    \n",
    "# load the data from exetcise 1\n",
    "def load(csv_file):\n",
    "    df = pd.read_csv(csv_file)\n",
    "    \n",
    "    df[\"sentence_number\"] = df[\"book_file\"].apply(count_sentences)\n",
    "    return df"
   ]
  },
  {
   "cell_type": "code",
   "execution_count": 5,
   "metadata": {},
   "outputs": [
    {
     "ename": "IndentationError",
     "evalue": "expected an indented block (<ipython-input-5-235e24477821>, line 14)",
     "output_type": "error",
     "traceback": [
      "\u001b[1;36m  File \u001b[1;32m\"<ipython-input-5-235e24477821>\"\u001b[1;36m, line \u001b[1;32m14\u001b[0m\n\u001b[1;33m    for author, book_url, book_title, book_file, sentence_number in df:\u001b[0m\n\u001b[1;37m      ^\u001b[0m\n\u001b[1;31mIndentationError\u001b[0m\u001b[1;31m:\u001b[0m expected an indented block\n"
     ]
    }
   ],
   "source": [
    "# initialize SQL database\n",
    "def to_database(csv_file):\n",
    "    df = load(csv_file)\n",
    "    \n",
    "    # Bind the engine to the metadata of the Base \n",
    "    # class from base.py \n",
    "    Base.metadata.bind = engine\n",
    "\n",
    "    session = sessionmaker(bind=engine)()\n",
    "\n",
    "    authors=dict()\n",
    "    def get_author(author_name): # Singleton of each author\n",
    "        if author_name not in authors.keys():\n",
    "            authors[author_name] = Author(name=author_name)\n",
    "            session.add(authors[author_name])\n",
    "        return authors[author_name]\n",
    "    \n",
    "    for author, book_url, book_title, book_file, sentence_number in df:\n",
    "        book = Book(uri=book_url,\n",
    "                    title=book_title\n",
    "                    file_path=book_file\n",
    "                    sentence_number=sentence_number\n",
    "                    author=get_author(author))\n",
    "        session.add(book)\n",
    "        \n",
    "    session.commit()"
   ]
  },
  {
   "cell_type": "code",
   "execution_count": 2,
   "metadata": {},
   "outputs": [],
   "source": [
    "# get the data from exercise 2 for every author of exercise 1"
   ]
  },
  {
   "cell_type": "code",
   "execution_count": null,
   "metadata": {},
   "outputs": [],
   "source": [
    "# add new info to database"
   ]
  },
  {
   "cell_type": "code",
   "execution_count": null,
   "metadata": {},
   "outputs": [],
   "source": [
    "# sample querries\n",
    "SAMPLE_QUERIES = [\n",
    "    # Retrieve all book title for a given author\n",
    "    \"\"\"SELECT book.title\n",
    "FROM book\n",
    "INNER JOIN author\n",
    "ON book.author_id = author.id\n",
    "WHERE author.name='{}'\"\"\",\n",
    "    # Retrieve all book title for all authors\n",
    "    \"\"\"SELECT books.title, authors.name\n",
    "FROM book\n",
    "INNER JOIN author\n",
    "ON book.author_id = author.id\"\"\",\n",
    "    # Retrieve the author list ordered in lexicographic ordering\n",
    "    \"\"\"SELECT name FROM author ORDER BY name\"\"\",\n",
    "    # Retrieve the number of book per author\n",
    "    \"\"\"SELECT COUNT(book.uri), author.name\n",
    "FROM book\n",
    "INNER JOIN author\n",
    "ON book.author_id = author.id\"\"\",\n",
    "    # Retrieve all book files for a given author\n",
    "    \"\"\"SELECT book.file_path\n",
    "FROM book\n",
    "INNER JOIN author\n",
    "ON book.author_id = author.id\n",
    "WHERE author.name='{}'\"\"\",\n",
    "    # Retrieve all book files for a given book title\n",
    "    \"\"\"SELECT file_path FROM book WHERE title='{}'\"\"\"\n",
    "]\n",
    "\n"
   ]
  }
 ],
 "metadata": {
  "kernelspec": {
   "display_name": "Python 3",
   "language": "python",
   "name": "python3"
  },
  "language_info": {
   "codemirror_mode": {
    "name": "ipython",
    "version": 3
   },
   "file_extension": ".py",
   "mimetype": "text/x-python",
   "name": "python",
   "nbconvert_exporter": "python",
   "pygments_lexer": "ipython3",
   "version": "3.7.1"
  }
 },
 "nbformat": 4,
 "nbformat_minor": 2
}
