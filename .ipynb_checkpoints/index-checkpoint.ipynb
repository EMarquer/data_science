{
 "cells": [
  {
   "cell_type": "markdown",
   "metadata": {
    "slideshow": {
     "slide_type": "skip"
    }
   },
   "source": [
    "Guidelines:\n",
    "1. Timing:  \n",
    "    you have 20 minutes total: 15 mn for your presentation, 5 mn for discussion with us (Q/A). Make sure not to overrun. \n",
    "2. Slides:  \n",
    "    Please send us your slides before the session.\n",
    "3. Projection:  \n",
    "    We will put your slides on a laptop which will be available for projection. If you use your own laptop, please check beforehand that you can project so as not to waste time.\n",
    "4. Content:  \n",
    "    Your presentation should clearly indicate which parts of the assignments was covered and which was not and it should summarize the results obtained. If you want , you can additionally present a specific point about your work e.g. a code fragment you are particularly proud of or some issue you found with the data/results. This part is free and optional. \n",
    "5. The presentations order is given below.\n",
    "6. Audience:  \n",
    "    the whole class may attend the presentations. \n",
    "\n",
    "\n",
    "11:10 - 11:30  \n",
    "MARQUER, Esteban   \n",
    "TSAI, Yi Ting\n",
    "\n",
    "Slides tool explanation:  \n",
    "* https://medium.com/@mjspeck/presenting-code-using-jupyter-notebook-slides-a8a3c3b59d67?fbclid=IwAR3B4ReB00mywyf7oh_9mgiuvOnGrij7RUhNfgZ0RQdUEwIsJHyD2RVhX08\n",
    "* https://medium.com/learning-machine-learning/present-your-data-science-projects-with-jupyter-slides-75f20735eb0f\n"
   ]
  },
  {
   "cell_type": "markdown",
   "metadata": {
    "slideshow": {
     "slide_type": "slide"
    }
   },
   "source": [
    "# Data-Science Project Defense\n",
    "Esteban Marquer & Yi Ting Tsai\n",
    "\n",
    "2019/04/03"
   ]
  },
  {
   "cell_type": "markdown",
   "metadata": {
    "slideshow": {
     "slide_type": "slide"
    }
   },
   "source": [
    "# Outline\n",
    "1. **Lab 1**\n",
    "    1. Parts covered and choices\n",
    "    2. Results\n",
    "2. **Lab 2**\n",
    "    1. Parts covered and choices\n",
    "    2. Results\n",
    "3. **Lab 3**\n",
    "    1. Parts covered and choices\n",
    "    2. Results\n",
    "4. **Interesting code fragment**"
   ]
  },
  {
   "cell_type": "markdown",
   "metadata": {
    "slideshow": {
     "slide_type": "slide"
    }
   },
   "source": [
    "# Lab 1\n",
    "## Parts covered and choices"
   ]
  },
  {
   "cell_type": "markdown",
   "metadata": {
    "slideshow": {
     "slide_type": "subslide"
    }
   },
   "source": [
    "# Exercise 1\n",
    "## Author selection criterion\n",
    "To be selected, an author must have at least a certain number of books fulfilling the following conditions:\n",
    "- the author must be the **Author** of the book;\n",
    "- the book must not have been chosen for another author (to **avoid book duplicates**);\n",
    "- the book must be written in a certain language;\n",
    "- the book **UTF-8 txt** transcription must be available without error at an expected URL (structured like `http://www.gutenberg.org/ebooks/<book_ID>.txt.utf-8`). \n",
    "\n",
    "The selected sentences are stored in TXT files named after the unique Gutenberg identifier of each book, one sentence per line.\n",
    "\n",
    "An extra CSV file contains the catalogue of books used, the file where the extracted sentences are stored and the name of the author of the book."
   ]
  },
  {
   "cell_type": "markdown",
   "metadata": {
    "slideshow": {
     "slide_type": "subslide"
    }
   },
   "source": [
    "# Exercise 2\n",
    "The exercise, searching for abstracts and literary movements, can be decomposed into three steps:\n",
    "1. parsing the name of the author given in the Gutenberg project and finding the corresponding name in DBpedia;  \n",
    "    three kind of names (in each case, can be followed by years):\n",
    "    1. family name, initials (given name)\n",
    "    2. family name, given name\n",
    "    3. full name\n",
    "2. getting the URI of the author;\n",
    "3. extracting the abstract (in multiple languages) and the literary movement of the author.\n"
   ]
  },
  {
   "cell_type": "markdown",
   "metadata": {
    "slideshow": {
     "slide_type": "subslide"
    }
   },
   "source": [
    "# Exercise 3\n",
    "This program creates a SQL database from the book catalogue (`data/book_catalogue.csv`) and additional information extracted using `exercise_2.py`.\n",
    "\n",
    "Here the `ebooks/<book_ID>` from the Gutenberg project is used as a book URI. \n",
    "\n",
    "![](lab_1/sql_graph.png)"
   ]
  },
  {
   "cell_type": "markdown",
   "metadata": {
    "slideshow": {
     "slide_type": "slide"
    }
   },
   "source": [
    "# Lab 1\n",
    "## Run and Results"
   ]
  },
  {
   "cell_type": "markdown",
   "metadata": {
    "slideshow": {
     "slide_type": "subslide"
    }
   },
   "source": [
    "## Hyperparameters"
   ]
  },
  {
   "cell_type": "code",
   "execution_count": null,
   "metadata": {
    "slideshow": {
     "slide_type": "fragment"
    }
   },
   "outputs": [],
   "source": [
    "AUTHOR_NUMBER = 5  # k\n",
    "SENTENCE_PER_AUTHOR = 200  # n\n",
    "BOOK_THRESHOLD = 4"
   ]
  },
  {
   "cell_type": "code",
   "execution_count": 1,
   "metadata": {
    "slideshow": {
     "slide_type": "skip"
    }
   },
   "outputs": [],
   "source": [
    "import pandas as pd"
   ]
  },
  {
   "cell_type": "markdown",
   "metadata": {
    "slideshow": {
     "slide_type": "subslide"
    }
   },
   "source": [
    "## Results"
   ]
  },
  {
   "cell_type": "code",
   "execution_count": 2,
   "metadata": {
    "slideshow": {
     "slide_type": "fragment"
    }
   },
   "outputs": [
    {
     "data": {
      "text/html": [
       "<div>\n",
       "<style scoped>\n",
       "    .dataframe tbody tr th:only-of-type {\n",
       "        vertical-align: middle;\n",
       "    }\n",
       "\n",
       "    .dataframe tbody tr th {\n",
       "        vertical-align: top;\n",
       "    }\n",
       "\n",
       "    .dataframe thead th {\n",
       "        text-align: right;\n",
       "    }\n",
       "</style>\n",
       "<table border=\"1\" class=\"dataframe\">\n",
       "  <thead>\n",
       "    <tr style=\"text-align: right;\">\n",
       "      <th></th>\n",
       "      <th>Unnamed: 0</th>\n",
       "      <th>author</th>\n",
       "      <th>book_url</th>\n",
       "      <th>book_title</th>\n",
       "      <th>book_file</th>\n",
       "    </tr>\n",
       "  </thead>\n",
       "  <tbody>\n",
       "    <tr>\n",
       "      <th>0</th>\n",
       "      <td>0</td>\n",
       "      <td>Dahn, Felix, 1834-1912</td>\n",
       "      <td>/ebooks/32220</td>\n",
       "      <td>A Captive of the Roman Eagles</td>\n",
       "      <td>data\\32220.txt</td>\n",
       "    </tr>\n",
       "    <tr>\n",
       "      <th>1</th>\n",
       "      <td>1</td>\n",
       "      <td>Dahn, Felix, 1834-1912</td>\n",
       "      <td>/ebooks/32222</td>\n",
       "      <td>Felicitas: A Tale of the German Migrations: A....</td>\n",
       "      <td>data\\32222.txt</td>\n",
       "    </tr>\n",
       "    <tr>\n",
       "      <th>2</th>\n",
       "      <td>2</td>\n",
       "      <td>Dahn, Felix, 1834-1912</td>\n",
       "      <td>/ebooks/32443</td>\n",
       "      <td>Saga of Halfred the Sigskald: A Northern Tale ...</td>\n",
       "      <td>data\\32443.txt</td>\n",
       "    </tr>\n",
       "    <tr>\n",
       "      <th>3</th>\n",
       "      <td>3</td>\n",
       "      <td>Dahn, Felix, 1834-1912</td>\n",
       "      <td>/ebooks/32461</td>\n",
       "      <td>The Scarlet Banner</td>\n",
       "      <td>data\\32461.txt</td>\n",
       "    </tr>\n",
       "    <tr>\n",
       "      <th>4</th>\n",
       "      <td>4</td>\n",
       "      <td>Dahn, Felix, 1834-1912</td>\n",
       "      <td>/ebooks/32271</td>\n",
       "      <td>A Struggle for Rome, v. 1</td>\n",
       "      <td>data\\32271.txt</td>\n",
       "    </tr>\n",
       "    <tr>\n",
       "      <th>5</th>\n",
       "      <td>5</td>\n",
       "      <td>Dahn, Felix, 1834-1912</td>\n",
       "      <td>/ebooks/32330</td>\n",
       "      <td>A Struggle for Rome, v. 2</td>\n",
       "      <td>data\\32330.txt</td>\n",
       "    </tr>\n",
       "    <tr>\n",
       "      <th>6</th>\n",
       "      <td>6</td>\n",
       "      <td>Dahn, Felix, 1834-1912</td>\n",
       "      <td>/ebooks/32377</td>\n",
       "      <td>A Struggle for Rome, v. 3</td>\n",
       "      <td>data\\32377.txt</td>\n",
       "    </tr>\n",
       "    <tr>\n",
       "      <th>7</th>\n",
       "      <td>7</td>\n",
       "      <td>Waddington, Mary King, 1833-1923</td>\n",
       "      <td>/ebooks/14029</td>\n",
       "      <td>Chateau and Country Life in France</td>\n",
       "      <td>data\\14029.txt</td>\n",
       "    </tr>\n",
       "    <tr>\n",
       "      <th>8</th>\n",
       "      <td>8</td>\n",
       "      <td>Waddington, Mary King, 1833-1923</td>\n",
       "      <td>/ebooks/37953</td>\n",
       "      <td>Italian Letters of a Diplomat's Wife: January-...</td>\n",
       "      <td>data\\37953.txt</td>\n",
       "    </tr>\n",
       "    <tr>\n",
       "      <th>9</th>\n",
       "      <td>9</td>\n",
       "      <td>Waddington, Mary King, 1833-1923</td>\n",
       "      <td>/ebooks/38825</td>\n",
       "      <td>Letters of a Diplomat's Wife, 1883-1900</td>\n",
       "      <td>data\\38825.txt</td>\n",
       "    </tr>\n",
       "    <tr>\n",
       "      <th>10</th>\n",
       "      <td>10</td>\n",
       "      <td>Waddington, Mary King, 1833-1923</td>\n",
       "      <td>/ebooks/10003</td>\n",
       "      <td>My First Years as a Frenchwoman, 1876-1879</td>\n",
       "      <td>data\\10003.txt</td>\n",
       "    </tr>\n",
       "  </tbody>\n",
       "</table>\n",
       "</div>"
      ],
      "text/plain": [
       "    Unnamed: 0                            author       book_url  \\\n",
       "0            0            Dahn, Felix, 1834-1912  /ebooks/32220   \n",
       "1            1            Dahn, Felix, 1834-1912  /ebooks/32222   \n",
       "2            2            Dahn, Felix, 1834-1912  /ebooks/32443   \n",
       "3            3            Dahn, Felix, 1834-1912  /ebooks/32461   \n",
       "4            4            Dahn, Felix, 1834-1912  /ebooks/32271   \n",
       "5            5            Dahn, Felix, 1834-1912  /ebooks/32330   \n",
       "6            6            Dahn, Felix, 1834-1912  /ebooks/32377   \n",
       "7            7  Waddington, Mary King, 1833-1923  /ebooks/14029   \n",
       "8            8  Waddington, Mary King, 1833-1923  /ebooks/37953   \n",
       "9            9  Waddington, Mary King, 1833-1923  /ebooks/38825   \n",
       "10          10  Waddington, Mary King, 1833-1923  /ebooks/10003   \n",
       "\n",
       "                                           book_title       book_file  \n",
       "0                       A Captive of the Roman Eagles  data\\32220.txt  \n",
       "1   Felicitas: A Tale of the German Migrations: A....  data\\32222.txt  \n",
       "2   Saga of Halfred the Sigskald: A Northern Tale ...  data\\32443.txt  \n",
       "3                                  The Scarlet Banner  data\\32461.txt  \n",
       "4                           A Struggle for Rome, v. 1  data\\32271.txt  \n",
       "5                           A Struggle for Rome, v. 2  data\\32330.txt  \n",
       "6                           A Struggle for Rome, v. 3  data\\32377.txt  \n",
       "7                  Chateau and Country Life in France  data\\14029.txt  \n",
       "8   Italian Letters of a Diplomat's Wife: January-...  data\\37953.txt  \n",
       "9             Letters of a Diplomat's Wife, 1883-1900  data\\38825.txt  \n",
       "10         My First Years as a Frenchwoman, 1876-1879  data\\10003.txt  "
      ]
     },
     "execution_count": 2,
     "metadata": {},
     "output_type": "execute_result"
    }
   ],
   "source": [
    "df = pd.read_csv(\"lab_1/data/book_catalogue.csv\")\n",
    "df.head(11)"
   ]
  },
  {
   "cell_type": "code",
   "execution_count": 3,
   "metadata": {
    "slideshow": {
     "slide_type": "notes"
    }
   },
   "outputs": [
    {
     "data": {
      "text/html": [
       "<div>\n",
       "<style scoped>\n",
       "    .dataframe tbody tr th:only-of-type {\n",
       "        vertical-align: middle;\n",
       "    }\n",
       "\n",
       "    .dataframe tbody tr th {\n",
       "        vertical-align: top;\n",
       "    }\n",
       "\n",
       "    .dataframe thead th {\n",
       "        text-align: right;\n",
       "    }\n",
       "</style>\n",
       "<table border=\"1\" class=\"dataframe\">\n",
       "  <thead>\n",
       "    <tr style=\"text-align: right;\">\n",
       "      <th></th>\n",
       "      <th>Unnamed: 0</th>\n",
       "      <th>author</th>\n",
       "      <th>book_url</th>\n",
       "      <th>book_title</th>\n",
       "      <th>book_file</th>\n",
       "    </tr>\n",
       "  </thead>\n",
       "  <tbody>\n",
       "    <tr>\n",
       "      <th>0</th>\n",
       "      <td>0</td>\n",
       "      <td>Dahn, Felix, 1834-1912</td>\n",
       "      <td>/ebooks/32220</td>\n",
       "      <td>A Captive of the Roman Eagles</td>\n",
       "      <td>data\\32220.txt</td>\n",
       "    </tr>\n",
       "    <tr>\n",
       "      <th>1</th>\n",
       "      <td>1</td>\n",
       "      <td>Dahn, Felix, 1834-1912</td>\n",
       "      <td>/ebooks/32222</td>\n",
       "      <td>Felicitas: A Tale of the German Migrations: A....</td>\n",
       "      <td>data\\32222.txt</td>\n",
       "    </tr>\n",
       "    <tr>\n",
       "      <th>2</th>\n",
       "      <td>2</td>\n",
       "      <td>Dahn, Felix, 1834-1912</td>\n",
       "      <td>/ebooks/32443</td>\n",
       "      <td>Saga of Halfred the Sigskald: A Northern Tale ...</td>\n",
       "      <td>data\\32443.txt</td>\n",
       "    </tr>\n",
       "    <tr>\n",
       "      <th>3</th>\n",
       "      <td>3</td>\n",
       "      <td>Dahn, Felix, 1834-1912</td>\n",
       "      <td>/ebooks/32461</td>\n",
       "      <td>The Scarlet Banner</td>\n",
       "      <td>data\\32461.txt</td>\n",
       "    </tr>\n",
       "    <tr>\n",
       "      <th>4</th>\n",
       "      <td>4</td>\n",
       "      <td>Dahn, Felix, 1834-1912</td>\n",
       "      <td>/ebooks/32271</td>\n",
       "      <td>A Struggle for Rome, v. 1</td>\n",
       "      <td>data\\32271.txt</td>\n",
       "    </tr>\n",
       "    <tr>\n",
       "      <th>5</th>\n",
       "      <td>5</td>\n",
       "      <td>Dahn, Felix, 1834-1912</td>\n",
       "      <td>/ebooks/32330</td>\n",
       "      <td>A Struggle for Rome, v. 2</td>\n",
       "      <td>data\\32330.txt</td>\n",
       "    </tr>\n",
       "    <tr>\n",
       "      <th>6</th>\n",
       "      <td>6</td>\n",
       "      <td>Dahn, Felix, 1834-1912</td>\n",
       "      <td>/ebooks/32377</td>\n",
       "      <td>A Struggle for Rome, v. 3</td>\n",
       "      <td>data\\32377.txt</td>\n",
       "    </tr>\n",
       "    <tr>\n",
       "      <th>7</th>\n",
       "      <td>7</td>\n",
       "      <td>Waddington, Mary King, 1833-1923</td>\n",
       "      <td>/ebooks/14029</td>\n",
       "      <td>Chateau and Country Life in France</td>\n",
       "      <td>data\\14029.txt</td>\n",
       "    </tr>\n",
       "    <tr>\n",
       "      <th>8</th>\n",
       "      <td>8</td>\n",
       "      <td>Waddington, Mary King, 1833-1923</td>\n",
       "      <td>/ebooks/37953</td>\n",
       "      <td>Italian Letters of a Diplomat's Wife: January-...</td>\n",
       "      <td>data\\37953.txt</td>\n",
       "    </tr>\n",
       "    <tr>\n",
       "      <th>9</th>\n",
       "      <td>9</td>\n",
       "      <td>Waddington, Mary King, 1833-1923</td>\n",
       "      <td>/ebooks/38825</td>\n",
       "      <td>Letters of a Diplomat's Wife, 1883-1900</td>\n",
       "      <td>data\\38825.txt</td>\n",
       "    </tr>\n",
       "    <tr>\n",
       "      <th>10</th>\n",
       "      <td>10</td>\n",
       "      <td>Waddington, Mary King, 1833-1923</td>\n",
       "      <td>/ebooks/10003</td>\n",
       "      <td>My First Years as a Frenchwoman, 1876-1879</td>\n",
       "      <td>data\\10003.txt</td>\n",
       "    </tr>\n",
       "  </tbody>\n",
       "</table>\n",
       "</div>"
      ],
      "text/plain": [
       "    Unnamed: 0                            author       book_url  \\\n",
       "0            0            Dahn, Felix, 1834-1912  /ebooks/32220   \n",
       "1            1            Dahn, Felix, 1834-1912  /ebooks/32222   \n",
       "2            2            Dahn, Felix, 1834-1912  /ebooks/32443   \n",
       "3            3            Dahn, Felix, 1834-1912  /ebooks/32461   \n",
       "4            4            Dahn, Felix, 1834-1912  /ebooks/32271   \n",
       "5            5            Dahn, Felix, 1834-1912  /ebooks/32330   \n",
       "6            6            Dahn, Felix, 1834-1912  /ebooks/32377   \n",
       "7            7  Waddington, Mary King, 1833-1923  /ebooks/14029   \n",
       "8            8  Waddington, Mary King, 1833-1923  /ebooks/37953   \n",
       "9            9  Waddington, Mary King, 1833-1923  /ebooks/38825   \n",
       "10          10  Waddington, Mary King, 1833-1923  /ebooks/10003   \n",
       "\n",
       "                                           book_title       book_file  \n",
       "0                       A Captive of the Roman Eagles  data\\32220.txt  \n",
       "1   Felicitas: A Tale of the German Migrations: A....  data\\32222.txt  \n",
       "2   Saga of Halfred the Sigskald: A Northern Tale ...  data\\32443.txt  \n",
       "3                                  The Scarlet Banner  data\\32461.txt  \n",
       "4                           A Struggle for Rome, v. 1  data\\32271.txt  \n",
       "5                           A Struggle for Rome, v. 2  data\\32330.txt  \n",
       "6                           A Struggle for Rome, v. 3  data\\32377.txt  \n",
       "7                  Chateau and Country Life in France  data\\14029.txt  \n",
       "8   Italian Letters of a Diplomat's Wife: January-...  data\\37953.txt  \n",
       "9             Letters of a Diplomat's Wife, 1883-1900  data\\38825.txt  \n",
       "10         My First Years as a Frenchwoman, 1876-1879  data\\10003.txt  "
      ]
     },
     "execution_count": 3,
     "metadata": {},
     "output_type": "execute_result"
    }
   ],
   "source": [
    "df[:11]"
   ]
  },
  {
   "cell_type": "code",
   "execution_count": 4,
   "metadata": {
    "slideshow": {
     "slide_type": "notes"
    }
   },
   "outputs": [
    {
     "data": {
      "text/html": [
       "<div>\n",
       "<style scoped>\n",
       "    .dataframe tbody tr th:only-of-type {\n",
       "        vertical-align: middle;\n",
       "    }\n",
       "\n",
       "    .dataframe tbody tr th {\n",
       "        vertical-align: top;\n",
       "    }\n",
       "\n",
       "    .dataframe thead th {\n",
       "        text-align: right;\n",
       "    }\n",
       "</style>\n",
       "<table border=\"1\" class=\"dataframe\">\n",
       "  <thead>\n",
       "    <tr style=\"text-align: right;\">\n",
       "      <th></th>\n",
       "      <th>Unnamed: 0</th>\n",
       "      <th>author</th>\n",
       "      <th>book_url</th>\n",
       "      <th>book_title</th>\n",
       "      <th>book_file</th>\n",
       "    </tr>\n",
       "  </thead>\n",
       "  <tbody>\n",
       "    <tr>\n",
       "      <th>11</th>\n",
       "      <td>11</td>\n",
       "      <td>Tacitus, Cornelius, 56-117</td>\n",
       "      <td>/ebooks/37696</td>\n",
       "      <td>Arguments of Celsus, Porphyry, and the Emperor...</td>\n",
       "      <td>data\\37696.txt</td>\n",
       "    </tr>\n",
       "    <tr>\n",
       "      <th>12</th>\n",
       "      <td>12</td>\n",
       "      <td>Tacitus, Cornelius, 56-117</td>\n",
       "      <td>/ebooks/9090</td>\n",
       "      <td>Germania and Agricola</td>\n",
       "      <td>data\\9090.txt</td>\n",
       "    </tr>\n",
       "    <tr>\n",
       "      <th>13</th>\n",
       "      <td>13</td>\n",
       "      <td>Tacitus, Cornelius, 56-117</td>\n",
       "      <td>/ebooks/7524</td>\n",
       "      <td>The Germany and the Agricola of Tacitus</td>\n",
       "      <td>data\\7524.txt</td>\n",
       "    </tr>\n",
       "    <tr>\n",
       "      <th>14</th>\n",
       "      <td>14</td>\n",
       "      <td>Tacitus, Cornelius, 56-117</td>\n",
       "      <td>/ebooks/7959</td>\n",
       "      <td>The Reign of Tiberius, Out of the First Six An...</td>\n",
       "      <td>data\\7959.txt</td>\n",
       "    </tr>\n",
       "    <tr>\n",
       "      <th>15</th>\n",
       "      <td>15</td>\n",
       "      <td>Tacitus, Cornelius, 56-117</td>\n",
       "      <td>/ebooks/2995</td>\n",
       "      <td>Tacitus on Germany</td>\n",
       "      <td>data\\2995.txt</td>\n",
       "    </tr>\n",
       "    <tr>\n",
       "      <th>16</th>\n",
       "      <td>16</td>\n",
       "      <td>Tacitus, Cornelius, 56-117</td>\n",
       "      <td>/ebooks/16927</td>\n",
       "      <td>Tacitus: The Histories, Volumes I and II</td>\n",
       "      <td>data\\16927.txt</td>\n",
       "    </tr>\n",
       "    <tr>\n",
       "      <th>17</th>\n",
       "      <td>17</td>\n",
       "      <td>Gaebelein, Arno Clemens, 1861-1945</td>\n",
       "      <td>/ebooks/29557</td>\n",
       "      <td>The Lord of GloryMeditations on the person, th...</td>\n",
       "      <td>data\\29557.txt</td>\n",
       "    </tr>\n",
       "    <tr>\n",
       "      <th>18</th>\n",
       "      <td>18</td>\n",
       "      <td>Gaebelein, Arno Clemens, 1861-1945</td>\n",
       "      <td>/ebooks/36857</td>\n",
       "      <td>The Prophet Ezekiel: An Analytical Exposition</td>\n",
       "      <td>data\\36857.txt</td>\n",
       "    </tr>\n",
       "    <tr>\n",
       "      <th>19</th>\n",
       "      <td>19</td>\n",
       "      <td>Gaebelein, Arno Clemens, 1861-1945</td>\n",
       "      <td>/ebooks/31603</td>\n",
       "      <td>Studies in Prophecy</td>\n",
       "      <td>data\\31603.txt</td>\n",
       "    </tr>\n",
       "    <tr>\n",
       "      <th>20</th>\n",
       "      <td>20</td>\n",
       "      <td>Gaebelein, Arno Clemens, 1861-1945</td>\n",
       "      <td>/ebooks/36216</td>\n",
       "      <td>Studies in Zechariah</td>\n",
       "      <td>data\\36216.txt</td>\n",
       "    </tr>\n",
       "    <tr>\n",
       "      <th>21</th>\n",
       "      <td>21</td>\n",
       "      <td>Gaebelein, Arno Clemens, 1861-1945</td>\n",
       "      <td>/ebooks/26643</td>\n",
       "      <td>The Work Of Christ: Past, Present and Future</td>\n",
       "      <td>data\\26643.txt</td>\n",
       "    </tr>\n",
       "  </tbody>\n",
       "</table>\n",
       "</div>"
      ],
      "text/plain": [
       "    Unnamed: 0                              author       book_url  \\\n",
       "11          11          Tacitus, Cornelius, 56-117  /ebooks/37696   \n",
       "12          12          Tacitus, Cornelius, 56-117   /ebooks/9090   \n",
       "13          13          Tacitus, Cornelius, 56-117   /ebooks/7524   \n",
       "14          14          Tacitus, Cornelius, 56-117   /ebooks/7959   \n",
       "15          15          Tacitus, Cornelius, 56-117   /ebooks/2995   \n",
       "16          16          Tacitus, Cornelius, 56-117  /ebooks/16927   \n",
       "17          17  Gaebelein, Arno Clemens, 1861-1945  /ebooks/29557   \n",
       "18          18  Gaebelein, Arno Clemens, 1861-1945  /ebooks/36857   \n",
       "19          19  Gaebelein, Arno Clemens, 1861-1945  /ebooks/31603   \n",
       "20          20  Gaebelein, Arno Clemens, 1861-1945  /ebooks/36216   \n",
       "21          21  Gaebelein, Arno Clemens, 1861-1945  /ebooks/26643   \n",
       "\n",
       "                                           book_title       book_file  \n",
       "11  Arguments of Celsus, Porphyry, and the Emperor...  data\\37696.txt  \n",
       "12                              Germania and Agricola   data\\9090.txt  \n",
       "13            The Germany and the Agricola of Tacitus   data\\7524.txt  \n",
       "14  The Reign of Tiberius, Out of the First Six An...   data\\7959.txt  \n",
       "15                                 Tacitus on Germany   data\\2995.txt  \n",
       "16           Tacitus: The Histories, Volumes I and II  data\\16927.txt  \n",
       "17  The Lord of GloryMeditations on the person, th...  data\\29557.txt  \n",
       "18      The Prophet Ezekiel: An Analytical Exposition  data\\36857.txt  \n",
       "19                                Studies in Prophecy  data\\31603.txt  \n",
       "20                               Studies in Zechariah  data\\36216.txt  \n",
       "21       The Work Of Christ: Past, Present and Future  data\\26643.txt  "
      ]
     },
     "execution_count": 4,
     "metadata": {},
     "output_type": "execute_result"
    }
   ],
   "source": [
    "df[11:22]"
   ]
  },
  {
   "cell_type": "code",
   "execution_count": 5,
   "metadata": {
    "slideshow": {
     "slide_type": "notes"
    }
   },
   "outputs": [
    {
     "data": {
      "text/html": [
       "<div>\n",
       "<style scoped>\n",
       "    .dataframe tbody tr th:only-of-type {\n",
       "        vertical-align: middle;\n",
       "    }\n",
       "\n",
       "    .dataframe tbody tr th {\n",
       "        vertical-align: top;\n",
       "    }\n",
       "\n",
       "    .dataframe thead th {\n",
       "        text-align: right;\n",
       "    }\n",
       "</style>\n",
       "<table border=\"1\" class=\"dataframe\">\n",
       "  <thead>\n",
       "    <tr style=\"text-align: right;\">\n",
       "      <th></th>\n",
       "      <th>Unnamed: 0</th>\n",
       "      <th>author</th>\n",
       "      <th>book_url</th>\n",
       "      <th>book_title</th>\n",
       "      <th>book_file</th>\n",
       "    </tr>\n",
       "  </thead>\n",
       "  <tbody>\n",
       "    <tr>\n",
       "      <th>22</th>\n",
       "      <td>22</td>\n",
       "      <td>Mabie, Hamilton Wright, 1846-1916</td>\n",
       "      <td>/ebooks/16736</td>\n",
       "      <td>Books and Culture</td>\n",
       "      <td>data\\16736.txt</td>\n",
       "    </tr>\n",
       "    <tr>\n",
       "      <th>23</th>\n",
       "      <td>23</td>\n",
       "      <td>Mabie, Hamilton Wright, 1846-1916</td>\n",
       "      <td>/ebooks/6143</td>\n",
       "      <td>Essays on Work and Culture</td>\n",
       "      <td>data\\6143.txt</td>\n",
       "    </tr>\n",
       "    <tr>\n",
       "      <th>24</th>\n",
       "      <td>24</td>\n",
       "      <td>Mabie, Hamilton Wright, 1846-1916</td>\n",
       "      <td>/ebooks/4265</td>\n",
       "      <td>Heroes Every Child Should Know</td>\n",
       "      <td>data\\4265.txt</td>\n",
       "    </tr>\n",
       "    <tr>\n",
       "      <th>25</th>\n",
       "      <td>25</td>\n",
       "      <td>Mabie, Hamilton Wright, 1846-1916</td>\n",
       "      <td>/ebooks/6622</td>\n",
       "      <td>Legends That Every Child Should Know; a Select...</td>\n",
       "      <td>data\\6622.txt</td>\n",
       "    </tr>\n",
       "    <tr>\n",
       "      <th>26</th>\n",
       "      <td>26</td>\n",
       "      <td>Mabie, Hamilton Wright, 1846-1916</td>\n",
       "      <td>/ebooks/44367</td>\n",
       "      <td>The Mentor: Walter Scott, Vol. 4, Num. 15, Ser...</td>\n",
       "      <td>data\\44367.txt</td>\n",
       "    </tr>\n",
       "    <tr>\n",
       "      <th>27</th>\n",
       "      <td>27</td>\n",
       "      <td>Mabie, Hamilton Wright, 1846-1916</td>\n",
       "      <td>/ebooks/19645</td>\n",
       "      <td>Under the Trees and Elsewhere</td>\n",
       "      <td>data\\19645.txt</td>\n",
       "    </tr>\n",
       "  </tbody>\n",
       "</table>\n",
       "</div>"
      ],
      "text/plain": [
       "    Unnamed: 0                             author       book_url  \\\n",
       "22          22  Mabie, Hamilton Wright, 1846-1916  /ebooks/16736   \n",
       "23          23  Mabie, Hamilton Wright, 1846-1916   /ebooks/6143   \n",
       "24          24  Mabie, Hamilton Wright, 1846-1916   /ebooks/4265   \n",
       "25          25  Mabie, Hamilton Wright, 1846-1916   /ebooks/6622   \n",
       "26          26  Mabie, Hamilton Wright, 1846-1916  /ebooks/44367   \n",
       "27          27  Mabie, Hamilton Wright, 1846-1916  /ebooks/19645   \n",
       "\n",
       "                                           book_title       book_file  \n",
       "22                                  Books and Culture  data\\16736.txt  \n",
       "23                         Essays on Work and Culture   data\\6143.txt  \n",
       "24                     Heroes Every Child Should Know   data\\4265.txt  \n",
       "25  Legends That Every Child Should Know; a Select...   data\\6622.txt  \n",
       "26  The Mentor: Walter Scott, Vol. 4, Num. 15, Ser...  data\\44367.txt  \n",
       "27                      Under the Trees and Elsewhere  data\\19645.txt  "
      ]
     },
     "execution_count": 5,
     "metadata": {},
     "output_type": "execute_result"
    }
   ],
   "source": [
    "df[22:]"
   ]
  },
  {
   "cell_type": "markdown",
   "metadata": {
    "slideshow": {
     "slide_type": "subslide"
    }
   },
   "source": [
    "5 first lines of book 0:\n",
    "- Dahn, Felix, 1834-1912\n",
    "- /ebooks/32220\n",
    "- \"A Captive of the Roman Eagles\""
   ]
  },
  {
   "cell_type": "code",
   "execution_count": 6,
   "metadata": {
    "slideshow": {
     "slide_type": "fragment"
    }
   },
   "outputs": [
    {
     "name": "stdout",
     "output_type": "stream",
     "text": [
      "\"I was the first on deck, flung, the first brand into the main sail, and swung the Italian lord overboard like a lake salmon out of an ice-hole.\n",
      "--------------------------------------------------\n",
      "But we, Adalo, shall then look down upon the free land of the Alemanni, stretching from the Alps to the Vosges.\n",
      "--------------------------------------------------\n",
      "Skins covered the turf floor which, opposite to the entrance, was raised until it formed a high seat; a curtain of heavy linen hung behind it, dividing from the front of the tent a small space used for a sleeping room.\n",
      "--------------------------------------------------\n",
      "The Illyrian turned toward him with a threatening bearing, saying in a stern, grave tone: \"Who tells you so?\"\n",
      "--------------------------------------------------\n",
      "Davus carried the last cup to the Illyrian and set the silver salver on the table.\n"
     ]
    }
   ],
   "source": [
    "with open(\"lab_1/\" + df[\"book_file\"][0]) as f:\n",
    "    print(('\\n' + '-' * 50 + '\\n').join([line.strip() for line in f][:5]))"
   ]
  },
  {
   "cell_type": "markdown",
   "metadata": {
    "slideshow": {
     "slide_type": "slide"
    }
   },
   "source": [
    "# Lab 2\n",
    "## Parts covered and choices"
   ]
  },
  {
   "cell_type": "markdown",
   "metadata": {
    "slideshow": {
     "slide_type": "subslide"
    }
   },
   "source": [
    "# Exercise 1\n",
    "Processing of the text files from the previous lab session:\n",
    "- remove the punctuation;\n",
    "- get the tokens, the POS and the named entities via Spacy;\n",
    "- run Stanford syntactic parser to get the parse tree.\n",
    "\n",
    "The sentences and the additional data of the features, such as the POS of the tokens `{sentence_ID: [token_POS, ...]}`,  are stored in corresponding JSON files, `<book>.pos.json`, named after the Gutenberg identifier of the book they come from. "
   ]
  },
  {
   "cell_type": "markdown",
   "metadata": {
    "slideshow": {
     "slide_type": "subslide"
    }
   },
   "source": [
    "# Exercise 2\n",
    "From the processed data of exercise_1.py, computation of descriptive statistics:\n",
    "- the vocabulary size (unique token count) per author;\n",
    "- the POS distribution per author;\n",
    "- the mean, max and average number of sentence size (token count), NP and VP per author;\n",
    "- the 10 most frequent named entity per named entity category per author.\n",
    "\n",
    "The generated statistics are not stored but printed."
   ]
  },
  {
   "cell_type": "markdown",
   "metadata": {
    "slideshow": {
     "slide_type": "subslide"
    }
   },
   "source": [
    "# Exercise 3\n",
    "The visualizations generated are:\n",
    "- a bar plot for the vocabulary size per author;\n",
    "- a box plot for the sentence size per author;\n",
    "- a bar plot for the POS distribution per author;\n",
    "- a word cloud based on the vocabulary per author, based on the vocabulary of the author.\n",
    "\n",
    "The bar plots and box plot are stored each in a file named after what they represent.\n",
    "\n",
    "The word clouds are stored in numbered files, with the author name written at the image."
   ]
  },
  {
   "cell_type": "markdown",
   "metadata": {
    "slideshow": {
     "slide_type": "slide"
    }
   },
   "source": [
    "# Lab 2\n",
    "## Run and Results"
   ]
  },
  {
   "cell_type": "markdown",
   "metadata": {
    "slideshow": {
     "slide_type": "subslide"
    }
   },
   "source": [
    "## Exercise 1 JSON output"
   ]
  },
  {
   "cell_type": "code",
   "execution_count": 7,
   "metadata": {
    "slideshow": {
     "slide_type": "skip"
    }
   },
   "outputs": [],
   "source": [
    "import pprint as pp\n",
    "import json \n",
    "with open(\"lab_2/data/32220.pos.json\", 'r') as f:\n",
    "    json_ner = json.loads(f.read())"
   ]
  },
  {
   "cell_type": "code",
   "execution_count": 8,
   "metadata": {
    "slideshow": {
     "slide_type": "fragment"
    }
   },
   "outputs": [
    {
     "name": "stdout",
     "output_type": "stream",
     "text": [
      "{'0': [],\n",
      " '1': [['Adalo', 'GPE'],\n",
      "       ['Alemanni', 'ORG'],\n",
      "       ['Alps', 'LOC'],\n",
      "       ['Vosges', 'LOC']],\n",
      " '10': [],\n",
      " '11': [],\n",
      " '12': [],\n",
      " '13': [],\n",
      " '14': [],\n",
      " '15': [],\n",
      " '16': [['Bissula', 'ORG']],\n",
      " '17': [['Ausonius', 'PERSON'], ['Butthank', 'ORG']],\n",
      " '18': [['Tribune', 'ORG'], ['Ausonius', 'PERSON']],\n",
      " '19': [['thirty years', 'DATE'], ['Project Gutenbergtm eBooks', 'ORG']],\n",
      " '2': [],\n",
      " '20': [],\n",
      " '21': [],\n",
      " '22': [],\n",
      " '23': [['August day', 'DATE']],\n",
      " '24': [],\n",
      " '25': [],\n",
      " '26': [],\n",
      " '27': [],\n",
      " '3': [],\n",
      " '4': [['Davus', 'ORG']],\n",
      " '5': [],\n",
      " '6': [['Bissula', 'ORG']],\n",
      " '7': [],\n",
      " '8': [],\n",
      " '9': []}\n"
     ]
    }
   ],
   "source": [
    "pp.pprint(json_ner)"
   ]
  },
  {
   "cell_type": "markdown",
   "metadata": {
    "slideshow": {
     "slide_type": "subslide"
    }
   },
   "source": [
    "## Exercise 2 console output\n",
    "![](lab_2-exe_2-screenshot.png)"
   ]
  },
  {
   "cell_type": "markdown",
   "metadata": {
    "slideshow": {
     "slide_type": "subslide"
    }
   },
   "source": [
    "# Exercise 3 images\n",
    "## lab_2/imgs/pos.png\n",
    "![](lab_2/imgs/pos.png)"
   ]
  },
  {
   "cell_type": "markdown",
   "metadata": {
    "slideshow": {
     "slide_type": "subslide"
    }
   },
   "source": [
    "## lab_2/imgs/voc_size.png\n",
    "![](lab_2/imgs/voc_size.png)"
   ]
  },
  {
   "cell_type": "markdown",
   "metadata": {
    "slideshow": {
     "slide_type": "subslide"
    }
   },
   "source": [
    "## lab_2/imgs/box.png\n",
    "![](lab_2/imgs/box.png)"
   ]
  },
  {
   "cell_type": "markdown",
   "metadata": {
    "slideshow": {
     "slide_type": "subslide"
    }
   },
   "source": [
    "## lab_2/imgs/00.png\n",
    "![](lab_2/imgs/00.png)"
   ]
  },
  {
   "cell_type": "markdown",
   "metadata": {
    "slideshow": {
     "slide_type": "slide"
    }
   },
   "source": [
    "# Lab 3\n",
    "## Parts covered and choices"
   ]
  },
  {
   "cell_type": "markdown",
   "metadata": {
    "slideshow": {
     "slide_type": "subslide"
    }
   },
   "source": [
    "# Exercise 1\n",
    "## Pre-processing and storage of different features\n",
    "The data is packed into instances and split into a training and a test set (80:20) , \n",
    "and processed to obtain the following features:\n",
    "- token TF-IDF-normalized frequencies;\n",
    "- named entity TF-IDF-normalized frequencies;\n",
    "- POS-filtered tokens TF-IDF-normalized frequencies;\n",
    "- average VP number per sentence;\n",
    "- average token number per sentence.\n",
    "\n",
    "All the features and the corresponding target are saved in SVMLight format to two files : `train.pos_token_tf_idf.svmlight` and `test.pos_token_tf_idf.svmlight`.\n",
    "Besides, the authors are prepared as targets, and a mapping of the authors to numbers is done, also the mapping is saved to CSV, `target_to_author.csv`."
   ]
  },
  {
   "cell_type": "markdown",
   "metadata": {
    "slideshow": {
     "slide_type": "subslide"
    }
   },
   "source": [
    "# Exercise 2\n",
    "## Training and optimisation of machine learning models\n",
    "The features produced  in exercise 1 are used to train two classifier : MultinomialNB and  LogisticRegression,  via GridSearchCV. Two optimisation scores: `precision_macro` and `recall_macro` were used.\n",
    "\n",
    "In each of the training setups (a feature, a model, and an optimisation score), the best model is evaluated.  \n",
    "Each of the best models found by GridSearchCV is tested, and the performance is printed in the console.\n",
    "\n",
    "Finally, to visualize the performance, a set of bar plots is generated for each feature, and stored into `imgs\\<feature>.png`, where the file name for the feature is the same as the one from exercise 1."
   ]
  },
  {
   "cell_type": "markdown",
   "metadata": {
    "slideshow": {
     "slide_type": "subslide"
    }
   },
   "source": [
    "# Exercise 3\n",
    "## Clustering\n",
    "**We did not do the bonus exercise on clustering**."
   ]
  },
  {
   "cell_type": "markdown",
   "metadata": {
    "slideshow": {
     "slide_type": "slide"
    }
   },
   "source": [
    "# Lab 3\n",
    "## Results"
   ]
  },
  {
   "cell_type": "markdown",
   "metadata": {
    "slideshow": {
     "slide_type": "subslide"
    }
   },
   "source": [
    "## lab_3\\imgs\\ne_tf_idf.png\n",
    "![](lab_3\\imgs\\ne_tf_idf.png)"
   ]
  },
  {
   "cell_type": "markdown",
   "metadata": {
    "slideshow": {
     "slide_type": "subslide"
    }
   },
   "source": [
    "## lab_3\\imgs\\pos_token_tf_idf.png\n",
    "![](lab_3\\imgs\\pos_token_tf_idf.png)"
   ]
  },
  {
   "cell_type": "markdown",
   "metadata": {
    "slideshow": {
     "slide_type": "subslide"
    }
   },
   "source": [
    "## lab_3\\imgs\\token_count_mean.png\n",
    "![](lab_3\\imgs\\token_count_mean.png)"
   ]
  },
  {
   "cell_type": "markdown",
   "metadata": {
    "slideshow": {
     "slide_type": "subslide"
    }
   },
   "source": [
    "## lab_3\\imgs\\token_tf_idf.png\n",
    "![](lab_3\\imgs\\token_tf_idf.png)"
   ]
  },
  {
   "cell_type": "markdown",
   "metadata": {
    "slideshow": {
     "slide_type": "subslide"
    }
   },
   "source": [
    "## lab_3\\imgs\\vp_count_mean.png\n",
    "![](lab_3\\imgs\\vp_count_mean.png)"
   ]
  },
  {
   "cell_type": "markdown",
   "metadata": {
    "slideshow": {
     "slide_type": "subslide"
    }
   },
   "source": [
    "## lab_3\\imgs\\all.png\n",
    "![](lab_3\\imgs\\all.png)"
   ]
  },
  {
   "cell_type": "markdown",
   "metadata": {
    "slideshow": {
     "slide_type": "slide"
    }
   },
   "source": [
    "# Interesting code fragment"
   ]
  },
  {
   "cell_type": "code",
   "execution_count": null,
   "metadata": {
    "slideshow": {
     "slide_type": "fragment"
    }
   },
   "outputs": [],
   "source": [
    "#Dict of classifier and its corresponding tuning parameters\n",
    "CLF_PARA_DICT = {\n",
    "    MultinomialNB: {'alpha': np.linspace(0.5, 1.5, 6), \n",
    "                    'fit_prior': [True, False]} , \n",
    "    LogisticRegression: {'C': [0.001, 0.01, 0.1, 1, 10, 100, 1000]}}"
   ]
  },
  {
   "cell_type": "markdown",
   "metadata": {
    "slideshow": {
     "slide_type": "slide"
    }
   },
   "source": [
    "# Thank you for your attention !\n",
    "## Questions ?"
   ]
  }
 ],
 "metadata": {
  "celltoolbar": "Diaporama",
  "kernelspec": {
   "display_name": "Python 3",
   "language": "python",
   "name": "python3"
  },
  "language_info": {
   "codemirror_mode": {
    "name": "ipython",
    "version": 3
   },
   "file_extension": ".py",
   "mimetype": "text/x-python",
   "name": "python",
   "nbconvert_exporter": "python",
   "pygments_lexer": "ipython3",
   "version": "3.7.1"
  }
 },
 "nbformat": 4,
 "nbformat_minor": 2
}
