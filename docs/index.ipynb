{
 "cells": [
  {
   "cell_type": "markdown",
   "metadata": {
    "slideshow": {
     "slide_type": "skip"
    }
   },
   "source": [
    "Guidelines:\n",
    "1. Timing:  \n",
    "    you have 20 minutes total: 15 mn for your presentation, 5 mn for discussion with us (Q/A). Make sure not to overrun. \n",
    "2. Slides:  \n",
    "    Please send us your slides before the session.\n",
    "3. Projection:  \n",
    "    We will put your slides on a laptop which will be available for projection. If you use your own laptop, please check beforehand that you can project so as not to waste time.\n",
    "4. Content:  \n",
    "    Your presentation should clearly indicate which parts of the assignments was covered and which was not and it should summarize the results obtained. If you want , you can additionally present a specific point about your work e.g. a code fragment you are particularly proud of or some issue you found with the data/results. This part is free and optional. \n",
    "5. The presentations order is given below.\n",
    "6. Audience:  \n",
    "    the whole class may attend the presentations. \n",
    "\n",
    "\n",
    "11:10 - 11:30  \n",
    "MARQUER, Esteban   \n",
    "TSAI, Yi Ting\n",
    "\n",
    "Slides tool explanation:  \n",
    "* https://medium.com/@mjspeck/presenting-code-using-jupyter-notebook-slides-a8a3c3b59d67?fbclid=IwAR3B4ReB00mywyf7oh_9mgiuvOnGrij7RUhNfgZ0RQdUEwIsJHyD2RVhX08\n",
    "* https://medium.com/learning-machine-learning/present-your-data-science-projects-with-jupyter-slides-75f20735eb0f\n"
   ]
  },
  {
   "cell_type": "markdown",
   "metadata": {
    "slideshow": {
     "slide_type": "slide"
    }
   },
   "source": [
    "# Data-Science Project Defense\n",
    "Esteban Marquer & Yi Ting Tsai\n",
    "\n",
    "2019/04/03"
   ]
  },
  {
   "cell_type": "markdown",
   "metadata": {
    "slideshow": {
     "slide_type": "slide"
    }
   },
   "source": [
    "## Outline\n",
    "1. Lab 1\n",
    "    1. Parts covered and choices\n",
    "    2. Results\n",
    "2. Lab 2\n",
    "    1. Parts covered and choices\n",
    "    2. Results\n",
    "3. Lab 3\n",
    "    1. Parts covered and choices\n",
    "    2. Results\n",
    "4. Interesting code fragment"
   ]
  },
  {
   "cell_type": "code",
   "execution_count": null,
   "metadata": {
    "slideshow": {
     "slide_type": "skip"
    }
   },
   "outputs": [],
   "source": []
  }
 ],
 "metadata": {
  "celltoolbar": "Diaporama",
  "kernelspec": {
   "display_name": "Python 3",
   "language": "python",
   "name": "python3"
  },
  "language_info": {
   "codemirror_mode": {
    "name": "ipython",
    "version": 3
   },
   "file_extension": ".py",
   "mimetype": "text/x-python",
   "name": "python",
   "nbconvert_exporter": "python",
   "pygments_lexer": "ipython3",
   "version": "3.7.1"
  }
 },
 "nbformat": 4,
 "nbformat_minor": 2
}
